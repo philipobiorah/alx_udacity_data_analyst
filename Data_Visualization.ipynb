{
  "nbformat": 4,
  "nbformat_minor": 0,
  "metadata": {
    "colab": {
      "name": "Data Visualization.ipynb",
      "private_outputs": true,
      "provenance": [],
      "mount_file_id": "12_GDb1gBqIne3okgiIqxwUidU4LzYsXb",
      "authorship_tag": "ABX9TyO9tRQYj3dy+z0T4BKeGw/F",
      "include_colab_link": true
    },
    "kernelspec": {
      "name": "python3",
      "display_name": "Python 3"
    },
    "language_info": {
      "name": "python"
    }
  },
  "cells": [
    {
      "cell_type": "markdown",
      "metadata": {
        "id": "view-in-github",
        "colab_type": "text"
      },
      "source": [
        "<a href=\"https://colab.research.google.com/github/philipobiorah/alx_udacity_data_analyst/blob/main/Data_Visualization.ipynb\" target=\"_parent\"><img src=\"https://colab.research.google.com/assets/colab-badge.svg\" alt=\"Open In Colab\"/></a>"
      ]
    },
    {
      "cell_type": "code",
      "execution_count": null,
      "metadata": {
        "id": "ftb8F0Q0hlQF"
      },
      "outputs": [],
      "source": [
        "import numpy as np\n",
        "import pandas as pd\n",
        "import matplotlib.pyplot as plt\n",
        "import seaborn as sb\n",
        "\n",
        "%matplotlib inline"
      ]
    },
    {
      "cell_type": "markdown",
      "source": [
        "#Load the dataset"
      ],
      "metadata": {
        "id": "1rHIGv32nY9A"
      }
    },
    {
      "cell_type": "code",
      "source": [
        "pokemon = pd.read_csv('/content/drive/MyDrive/mount_d/pokemon.csv')\n",
        "print(pokemon.shape)\n",
        "pokemon.head(10)"
      ],
      "metadata": {
        "id": "usEzU_CJna5e"
      },
      "execution_count": null,
      "outputs": []
    },
    {
      "cell_type": "code",
      "source": [
        "#create bar chart using seaborn's conutplot function"
      ],
      "metadata": {
        "id": "tA2uC262n6yC"
      },
      "execution_count": null,
      "outputs": []
    },
    {
      "cell_type": "code",
      "source": [
        "sb.countplot(data=pokemon, x = 'generation_id');"
      ],
      "metadata": {
        "id": "QY5Sq1Wg1Og2"
      },
      "execution_count": null,
      "outputs": []
    },
    {
      "cell_type": "code",
      "source": [
        "#Choosing a specific color form color palette\n",
        "base_color = sb.color_palette()[0]"
      ],
      "metadata": {
        "id": "FOIJ5qaA61HG"
      },
      "execution_count": null,
      "outputs": []
    },
    {
      "cell_type": "code",
      "source": [
        "sb.countplot(data=pokemon, x = 'generation_id')"
      ],
      "metadata": {
        "id": "jT5UAj9j7rom"
      },
      "execution_count": null,
      "outputs": []
    },
    {
      "cell_type": "code",
      "source": [
        "# Using one color for the bars\n",
        "#grab the the very first color\n",
        "base_color = sb.color_palette()[0]"
      ],
      "metadata": {
        "id": "KX-uNLjC-GWK"
      },
      "execution_count": null,
      "outputs": []
    },
    {
      "cell_type": "code",
      "source": [
        "sb.countplot(data=pokemon, x = 'generation_id', color=base_color);"
      ],
      "metadata": {
        "id": "xRx7cZoo-pf7"
      },
      "execution_count": null,
      "outputs": []
    },
    {
      "cell_type": "code",
      "source": [
        "#Manual sorting of the  bars\n",
        "sb.countplot(data=pokemon, x = 'generation_id', color=base_color, order = [5,1,3,4,7,6]);"
      ],
      "metadata": {
        "id": "ymENtW8Y-1kj"
      },
      "execution_count": null,
      "outputs": []
    },
    {
      "cell_type": "code",
      "source": [
        "#sorting programatically\n",
        "#we use index of value_counts for each element in generation id\n",
        "gen_order = pokemon['generation_id'].value_counts().index"
      ],
      "metadata": {
        "id": "sziv13bE_PzW"
      },
      "execution_count": null,
      "outputs": []
    },
    {
      "cell_type": "code",
      "source": [
        "sb.countplot(data=pokemon, x = 'generation_id', color=base_color, order=gen_order)"
      ],
      "metadata": {
        "id": "JdmEeaUG_YsE"
      },
      "execution_count": null,
      "outputs": []
    },
    {
      "cell_type": "code",
      "source": [
        "#let look at another categorical variable `type_1`\n",
        "base_color = sb.color_palette()[0]\n",
        "sb.countplot(data=pokemon, x = 'type_1', color = base_color)"
      ],
      "metadata": {
        "id": "NWBQZrY6BMHX"
      },
      "execution_count": null,
      "outputs": []
    },
    {
      "cell_type": "markdown",
      "source": [
        "The labal in the x axis are unreadable. We con use the matplotlib xticks to rotate the labels 90 degrees."
      ],
      "metadata": {
        "id": "BIAI_wBLI1ya"
      }
    },
    {
      "cell_type": "code",
      "source": [
        "sb.countplot(data=pokemon, x='type_1', color=base_color);\n",
        "plt.xticks(rotation=90);"
      ],
      "metadata": {
        "id": "ynOpq5C_JMIE"
      },
      "execution_count": null,
      "outputs": []
    },
    {
      "cell_type": "markdown",
      "source": [
        "Alternatively we can create a horizontal bar chart by simply changing the x- axis to y axis"
      ],
      "metadata": {
        "id": "OuTcZsAULOVC"
      }
    },
    {
      "cell_type": "code",
      "source": [
        "type_order = pokemon['type_1'].value_counts().index\n",
        "sb.countplot(data=pokemon, y='type_1', color=base_color, order=type_order);"
      ],
      "metadata": {
        "id": "okNHhnCtK51w"
      },
      "execution_count": null,
      "outputs": []
    },
    {
      "cell_type": "markdown",
      "source": [
        "**Create a vertical bar chart using Matplotlib, with a uniform single color**"
      ],
      "metadata": {
        "id": "Ik6FahdhPoxV"
      }
    },
    {
      "cell_type": "code",
      "source": [
        "# Return the Series having unique values\n",
        "pokemon['generation_id'].unique()"
      ],
      "metadata": {
        "id": "fveEUSPbPWXc"
      },
      "execution_count": null,
      "outputs": []
    },
    {
      "cell_type": "code",
      "source": [
        "# Return the Series having frequency count of each unique value\n",
        "y = pokemon['generation_id'].value_counts(sort=True)"
      ],
      "metadata": {
        "id": "t6lTNMx7Px46"
      },
      "execution_count": null,
      "outputs": []
    },
    {
      "cell_type": "markdown",
      "source": [
        "Data Wrangling \n",
        "We will use the pandas.DataFrame.melt() method to upoivot a DataFrame from wide to long format, optionally leaving identifiers set. "
      ],
      "metadata": {
        "id": "dcMYdYC8Ldzd"
      }
    },
    {
      "cell_type": "code",
      "source": [
        "## Syntax : DataFrame.melt(id_vars, value_vars, var_name, value_name, col_level, ignore_index)"
      ],
      "metadata": {
        "id": "q8vNtgAqLyop"
      },
      "execution_count": null,
      "outputs": []
    },
    {
      "cell_type": "markdown",
      "source": [
        ""
      ],
      "metadata": {
        "id": "xnUJ-_GxMI2y"
      }
    },
    {
      "cell_type": "markdown",
      "source": [
        "It is essential to understand the parameters involved:\n",
        "\n",
        "id_vars - It is a tuple representing the column(s) to use as identifier variables.\n",
        "value_vars - It is tuple representing the column(s) to unpivot (remove, out of place).\n",
        "var_name - It is a name of the new column.\n",
        "value_name - It is a name to use for the ‘value’ of the columns that are unpivoted.\n"
      ],
      "metadata": {
        "id": "z-HhCKeyLixM"
      }
    },
    {
      "cell_type": "markdown",
      "source": [
        "The function below will do the following in the pokemon dataframe out of place:\n",
        "\n",
        "Select the 'id', and 'species' columns from pokemon.\n",
        "Remove the 'type_1', 'type_2' columns from pokemon\n",
        "Add a new column 'type_level' that can have a value either 'type_1' or 'type_2'\n",
        "Add another column 'type' that will contain the actual value contained in the 'type_1', 'type_2' columns. For example, the first row in the pokemon dataframe having id=1 and species=bulbasaur will now occur twice in the resulting dataframe after the melt() operation. The first occurrence will have type=grass, whereas, the second occurrence will have type=poison."
      ],
      "metadata": {
        "id": "_9x3LlUOM4se"
      }
    },
    {
      "cell_type": "markdown",
      "source": [
        "**Data wrangling to reshape the pokemon dataframe**"
      ],
      "metadata": {
        "id": "i4u7P0heNELd"
      }
    },
    {
      "cell_type": "code",
      "source": [
        "pkmn_types = pokemon.melt(id_vars=['id', 'species'],\n",
        "                          value_vars=['type_1', 'type_2'],\n",
        "                          var_name='type_level',\n",
        "                          value_name='type')"
      ],
      "metadata": {
        "id": "kUGz8G47NMRX"
      },
      "execution_count": null,
      "outputs": []
    },
    {
      "cell_type": "markdown",
      "source": [
        "Let us select on type level whose id == 1"
      ],
      "metadata": {
        "id": "0z8rCu8Vh62J"
      }
    },
    {
      "cell_type": "code",
      "source": [
        "pkmn_types[pkmn_types['id']== 1]"
      ],
      "metadata": {
        "id": "VBGhPYCHOBBm"
      },
      "execution_count": null,
      "outputs": []
    },
    {
      "cell_type": "markdown",
      "source": [
        "Find the frequency of unique values in the type column\n"
      ],
      "metadata": {
        "id": "gdZGBWvEiNge"
      }
    },
    {
      "cell_type": "code",
      "source": [
        "pkmn_types['type'].value_counts()"
      ],
      "metadata": {
        "id": "x5Qd5E9XiRxQ"
      },
      "execution_count": null,
      "outputs": []
    },
    {
      "cell_type": "code",
      "source": [
        "# Count the frequency of unique values in the `type` column of pkmn_types dataframe. \n",
        "# By default, returns the decreasing order of the frequency.\n",
        "type_order = pkmn_types['type'].value_counts().index\n",
        "## Bar plot of frequency of uniques values in the type column\n",
        "sb.countplot(data=pkmn_types, x='type', color='blue', order=type_order);\n",
        "plt.xticks(rotation=90);"
      ],
      "metadata": {
        "id": "dE9Dax1Nkylv"
      },
      "execution_count": null,
      "outputs": []
    },
    {
      "cell_type": "markdown",
      "source": [
        "Plot the horizontal bar charts"
      ],
      "metadata": {
        "id": "ODAUdHMol0xB"
      }
    },
    {
      "cell_type": "code",
      "source": [
        "sb.countplot(data=pkmn_types, y='type', color = 'blue', order=type_order);"
      ],
      "metadata": {
        "id": "pYcrXdRhl4QD"
      },
      "execution_count": null,
      "outputs": []
    },
    {
      "cell_type": "markdown",
      "source": [
        "Plot a bar chart having the proportions, instead of the actual count, on one of the axes."
      ],
      "metadata": {
        "id": "2wKJqXW1mxUP"
      }
    },
    {
      "cell_type": "code",
      "source": [
        "# Returns the sum of all not-null values in `type` column\n",
        "n_pokemon = pkmn_types['type'].value_counts().sum()"
      ],
      "metadata": {
        "id": "6CEGVkKnkm7A"
      },
      "execution_count": null,
      "outputs": []
    },
    {
      "cell_type": "code",
      "source": [
        "# Return the highest frequecny in the `type  column\n",
        "type_counts = pkmn_types['type'].value_counts()\n",
        "max_type_count = type_counts[0]"
      ],
      "metadata": {
        "id": "uvDbdFyP0FG9"
      },
      "execution_count": null,
      "outputs": []
    },
    {
      "cell_type": "code",
      "source": [
        "# Return the maximum proportion, or in other words, \n",
        "# compute the length of the longest bar in terms of the proportion\n",
        "max_prop = max_type_count / n_pokemon\n",
        "print(max_prop)"
      ],
      "metadata": {
        "id": "KdunPCP11ZGN"
      },
      "execution_count": null,
      "outputs": []
    },
    {
      "cell_type": "markdown",
      "source": [
        "Create an array of evenly spaced proportioned values"
      ],
      "metadata": {
        "id": "l3-DQT4w1m_h"
      }
    },
    {
      "cell_type": "code",
      "source": [
        "# Use numpy.arange() function to produce a set of evenly spaced proportioned values \n",
        "# between 0 and max_prop, with a step size 2\\%\n",
        "tick_props = np.arange(0, max_prop, 0.02)\n",
        "tick_props"
      ],
      "metadata": {
        "id": "vvAPataPAavs"
      },
      "execution_count": null,
      "outputs": []
    },
    {
      "cell_type": "markdown",
      "source": [
        "Create a list of String values that can be used as tick labels."
      ],
      "metadata": {
        "id": "qxOTNKTuA4jU"
      }
    },
    {
      "cell_type": "code",
      "source": [
        "# Use a list comprehension to create tick_names that we will apply to the tick labels. \n",
        "# Pick each element `v` from the `tick_props`, and convert it into a formatted string.\n",
        "# `{:0.2f}` denotes that before formatting, we 2 digits of precision and `f` is used to represent floating point number.\n",
        "# Refer [here](https://docs.python.org/2/library/string.html#format-string-syntax) for more details\n",
        "tick_names = ['{:0.2f}'.format(v) for v in tick_props]\n",
        "tick_names"
      ],
      "metadata": {
        "id": "Q454wvJ3A5af"
      },
      "execution_count": null,
      "outputs": []
    },
    {
      "cell_type": "markdown",
      "source": [
        "The xticks and yticks functions aren't only about rotating the tick labels. You can also get and set their locations and labels as well. The first argument takes the tick locations: in this case, the tick proportions multiplied back to be on the scale of counts. The second argument takes the tick names: in this case, the tick proportions formatted as strings to two decimal places."
      ],
      "metadata": {
        "id": "j5S3vuzLBZEi"
      }
    },
    {
      "cell_type": "markdown",
      "source": [
        " Plot the bar chart, with new x-tick labels"
      ],
      "metadata": {
        "id": "VckChYUhBkg0"
      }
    },
    {
      "cell_type": "code",
      "source": [
        "sb.countplot(data=pkmn_types, y='type', color=base_color, order=type_order);\n",
        "#change the tick locations ans labels\n",
        "plt.xticks(tick_props * n_pokemon, tick_names)\n",
        "plt.xlabel('proportion')"
      ],
      "metadata": {
        "id": "ujm6N-80BmL5"
      },
      "execution_count": null,
      "outputs": []
    },
    {
      "cell_type": "markdown",
      "source": [
        "Additional Variation\n",
        "Rather than plotting the data on a relative frequency scale, you might use text annotations to label the frequencies on bars instead. This requires writing a loop over the tick locations and labels and adding one text element for each bar."
      ],
      "metadata": {
        "id": "ClkN-gzsCtF-"
      }
    },
    {
      "cell_type": "markdown",
      "source": [
        "### Print the text (proportion) on the bars of a horizontal plot."
      ],
      "metadata": {
        "id": "_blihzUjC0As"
      }
    },
    {
      "cell_type": "code",
      "source": [
        "n_pokemon"
      ],
      "metadata": {
        "id": "d2Rsel8VFF3g"
      },
      "execution_count": null,
      "outputs": []
    },
    {
      "cell_type": "code",
      "source": [
        "sb.countplot(data=pkmn_types, y='type', color=base_color, order=type_order);\n",
        "# Logic to print the proportion text on the bars\n",
        "for i in range (type_counts.shape[0]):\n",
        "    # Remember, type_counts contains the frequency of unique values in the `type` column in decreasing order.\n",
        "    count = type_counts[i]\n",
        "    # Convert count into a percentage, and then into string\n",
        "    pct_string = '{:0.1f}'.format(100*count/n_pokemon)\n",
        "    # Print the string value on the bar. \n",
        "    # Read more about the arguments of text() function [here](https://matplotlib.org/3.1.1/api/_as_gen/matplotlib.pyplot.text.html)\n",
        "    plt.text(count+1, i, pct_string, va='center')\n",
        "    "
      ],
      "metadata": {
        "id": "Ni0ropBdBawv"
      },
      "execution_count": null,
      "outputs": []
    },
    {
      "cell_type": "markdown",
      "source": [
        "###Print the text (proportion) below the bars of a Vertical plot.\n"
      ],
      "metadata": {
        "id": "J1dOu47vGb3c"
      }
    },
    {
      "cell_type": "code",
      "source": [
        "sb.countplot(data=pkmn_types, x='type', color=base_color, order=type_order);\n",
        "\n",
        "\n",
        "# Recalculating the type_counts just to have clarity.\n",
        "type_counts = pkmn_types['type'].value_counts()\n",
        "\n",
        "# get the current tick locations and labels\n",
        "locs, labels = plt.xticks(rotation=90) \n",
        "\n",
        "# loop through each pair of locations and labels\n",
        "for loc, label in zip(locs, labels):\n",
        "\n",
        "    # get the text property for the label to get the correct count\n",
        "    count = type_counts[label.get_text()]\n",
        "    pct_string = '{:0.1f}%'.format(100*count/n_pokemon)\n",
        "\n",
        "    # print the annotation just below the top of the bar\n",
        "    plt.text(loc, count+2, pct_string, ha = 'center', color = 'black')"
      ],
      "metadata": {
        "id": "VKb3YfrVBu1q"
      },
      "execution_count": null,
      "outputs": []
    },
    {
      "cell_type": "code",
      "source": [
        ""
      ],
      "metadata": {
        "id": "EYkJ3gEYGucA"
      },
      "execution_count": null,
      "outputs": []
    },
    {
      "cell_type": "markdown",
      "source": [
        "Refrence: ALX-T Udacity Nanodegree Course. - Data Visualization"
      ],
      "metadata": {
        "id": "mw4XaOxTHkrJ"
      }
    }
  ]
}