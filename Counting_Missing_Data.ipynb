{
  "nbformat": 4,
  "nbformat_minor": 0,
  "metadata": {
    "colab": {
      "name": "Counting_Missing_Data.ipynb",
      "private_outputs": true,
      "provenance": [],
      "mount_file_id": "1AFiNewarzrQ0B6sPSU3OePGVdVHRLFdm",
      "authorship_tag": "ABX9TyO5AfCI4GloHnu0zemHhj8k",
      "include_colab_link": true
    },
    "kernelspec": {
      "name": "python3",
      "display_name": "Python 3"
    },
    "language_info": {
      "name": "python"
    }
  },
  "cells": [
    {
      "cell_type": "markdown",
      "metadata": {
        "id": "view-in-github",
        "colab_type": "text"
      },
      "source": [
        "<a href=\"https://colab.research.google.com/github/philipobiorah/alx_udacity_data_analyst/blob/main/Counting_Missing_Data.ipynb\" target=\"_parent\"><img src=\"https://colab.research.google.com/assets/colab-badge.svg\" alt=\"Open In Colab\"/></a>"
      ]
    },
    {
      "cell_type": "markdown",
      "source": [
        "If you have a large dataframe with a few missing values (None or a numpy.NaN), you can count the number of missing values across the given label. You can use either of the two analogous functions listed below for this purpose:\n",
        "\n",
        "pandas.DataFrame.isna()\n",
        "\n",
        "pandas.DataFrame.isnull()\n",
        "\n"
      ],
      "metadata": {
        "id": "HO07cSfHOxuU"
      }
    },
    {
      "cell_type": "markdown",
      "source": [
        "Load the dataset"
      ],
      "metadata": {
        "id": "datwJhQHO3af"
      }
    },
    {
      "cell_type": "code",
      "source": [
        "import numpy as np\n",
        "import pandas as pd\n",
        "import matplotlib.pyplot as plt\n",
        "import seaborn as sb\n",
        "%matplotlib inline"
      ],
      "metadata": {
        "id": "9iqRvDuYPdZ-"
      },
      "execution_count": null,
      "outputs": []
    },
    {
      "cell_type": "code",
      "execution_count": null,
      "metadata": {
        "id": "eyyAevFtOXmW"
      },
      "outputs": [],
      "source": [
        "sales_data =pd.read_csv('/content/drive/MyDrive/mount_d/sales-data.csv')\n",
        "sales_data.head(10)"
      ]
    },
    {
      "cell_type": "code",
      "source": [
        "# Examine the shape of the dataframe. How many rows and columns ?\n",
        "sales_data.shape"
      ],
      "metadata": {
        "id": "A17fVbtoQ7FW"
      },
      "execution_count": null,
      "outputs": []
    },
    {
      "cell_type": "markdown",
      "source": [
        "8190 rows x 12 columns"
      ],
      "metadata": {
        "id": "oflV6MiQQ5bU"
      }
    },
    {
      "cell_type": "code",
      "source": [
        "# Count of columns where we have values NaN\n",
        "sales_data.isnull().sum()"
      ],
      "metadata": {
        "id": "LleSv_5LRMJy"
      },
      "execution_count": null,
      "outputs": []
    },
    {
      "cell_type": "markdown",
      "source": [
        "What if we want to see how many missing values there are?\n",
        "One intriguing application of bar charts is the visualization of missing data. We could use the variable names as levels of a categorical variable and generate a bar plot as a result. However, because the data is not in its neat, unsummarized form, we must use a different plotting function. Seaborn's barplot function was designed to display a summary of one quantitative variable versus levels of a second, qualitative variable, but it can also be used here."
      ],
      "metadata": {
        "id": "AUWfJz6RobbC"
      }
    },
    {
      "cell_type": "markdown",
      "source": [
        "###Prepare a NaN tabular data"
      ],
      "metadata": {
        "id": "P69o_cfLosGW"
      }
    },
    {
      "cell_type": "code",
      "source": [
        "#Let drop the column that do not have any NaN/None values\n",
        "na_counts = sales_data.drop(['Date', 'Temperature', 'Fuel_Price'], axis=1).isna().sum()\n",
        "na_counts"
      ],
      "metadata": {
        "id": "7Rks1lrqouB2"
      },
      "execution_count": null,
      "outputs": []
    },
    {
      "cell_type": "markdown",
      "source": [
        "###Use seaborn.barplot() : Plot the bar chart from the NaN tabular data, and also print values on each bar\n"
      ],
      "metadata": {
        "id": "Q5xaRWuTp2L_"
      }
    },
    {
      "cell_type": "code",
      "source": [
        "# The first argument to the function below contains the x-values (column names),\n",
        "# the second argument the y-values (our counts).\n",
        "# Refer to the syntax and more example here - https://seaborn.pydata.org/generated/seaborn.barplot.html\n",
        "sb.barplot(na_counts.index.values, na_counts, color='blue')\n",
        "# get the current tick locations and the ables \n",
        "plt.xticks(rotation=90)\n",
        "\n",
        "#Logic to print value on each bar\n",
        "for i in range (na_counts.shape[0]):\n",
        "  count = na_counts[i] \n",
        "  # Refer here for details of the text() - https://matplotlib.org/3.1.1/api/_as_gen/matplotlib.pyplot.text.html\n",
        "  plt.text(i, count+300, count, ha = 'center', va='top')"
      ],
      "metadata": {
        "id": "yIN0vgdup30U"
      },
      "execution_count": null,
      "outputs": []
    },
    {
      "cell_type": "code",
      "source": [
        ""
      ],
      "metadata": {
        "id": "-IwA1SgsqDT_"
      },
      "execution_count": null,
      "outputs": []
    }
  ]
}