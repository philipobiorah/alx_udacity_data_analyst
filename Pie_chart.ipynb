{
  "nbformat": 4,
  "nbformat_minor": 0,
  "metadata": {
    "colab": {
      "name": "Pie_chart.ipynb",
      "private_outputs": true,
      "provenance": [],
      "mount_file_id": "1ezqY0R8qChPzMgAM1XYbZUaQNuciroJg",
      "authorship_tag": "ABX9TyPNdsO1lUFq9FsbRh7AglSW",
      "include_colab_link": true
    },
    "kernelspec": {
      "name": "python3",
      "display_name": "Python 3"
    },
    "language_info": {
      "name": "python"
    }
  },
  "cells": [
    {
      "cell_type": "markdown",
      "metadata": {
        "id": "view-in-github",
        "colab_type": "text"
      },
      "source": [
        "<a href=\"https://colab.research.google.com/github/philipobiorah/alx_udacity_data_analyst/blob/main/Pie_chart.ipynb\" target=\"_parent\"><img src=\"https://colab.research.google.com/assets/colab-badge.svg\" alt=\"Open In Colab\"/></a>"
      ]
    },
    {
      "cell_type": "code",
      "execution_count": null,
      "metadata": {
        "id": "1jJRahMX_GkR"
      },
      "outputs": [],
      "source": [
        "import pandas as pd\n",
        "import numpy as np\n",
        "import matplotlib.pyplot as plt\n"
      ]
    },
    {
      "cell_type": "code",
      "source": [
        "pokemon = pd.read_csv('/content/drive/MyDrive/mount_d/pokemon.csv')\n"
      ],
      "metadata": {
        "id": "PDMY8T3ADBxS"
      },
      "execution_count": null,
      "outputs": []
    },
    {
      "cell_type": "markdown",
      "source": [
        "## Plot a simple Pie chart"
      ],
      "metadata": {
        "id": "jspE5MQlDg7Z"
      }
    },
    {
      "cell_type": "code",
      "source": [
        "sorted_counts = pokemon['generation_id'].value_counts()\n",
        "plt.pie(sorted_counts, labels = sorted_counts.index, startangle=90, counterclock= False );\n",
        "plt.axis('square');"
      ],
      "metadata": {
        "id": "oTiVSr0zDjmy"
      },
      "execution_count": null,
      "outputs": []
    },
    {
      "cell_type": "markdown",
      "source": [
        " ## Plot a simple Donut  "
      ],
      "metadata": {
        "id": "-tv0DiVTFmI7"
      }
    },
    {
      "cell_type": "code",
      "source": [
        "plt.pie(sorted_counts, labels = sorted_counts.index, startangle = 90,\n",
        "        counterclock = False, wedgeprops = {'width' : 0.4});\n",
        "plt.axis('square');"
      ],
      "metadata": {
        "id": "olrfqsAvFoh_"
      },
      "execution_count": null,
      "outputs": []
    }
  ]
}