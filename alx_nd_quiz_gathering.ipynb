{
 "cells": [
  {
   "cell_type": "markdown",
   "id": "df32d57b",
   "metadata": {},
   "source": [
    "## Quiz    \n",
    "\n",
    "ALX Udacity Data Analyst Nanodegree quiz : gathering"
   ]
  },
  {
   "cell_type": "code",
   "execution_count": 5,
   "id": "f2a4b4fc",
   "metadata": {},
   "outputs": [],
   "source": [
    "from bs4 import BeautifulSoup\n",
    "import os\n",
    "import pandas as pd"
   ]
  },
  {
   "cell_type": "code",
   "execution_count": null,
   "id": "1815c7da",
   "metadata": {},
   "outputs": [],
   "source": []
  },
  {
   "cell_type": "code",
   "execution_count": 16,
   "id": "2607ebac",
   "metadata": {},
   "outputs": [],
   "source": [
    "# List of dictionaries to build file by file and later convert to a DataFrame\n",
    "df_list = []\n",
    "folder = 'rt-html/rt_html'\n",
    "for movie_html in os.listdir(folder):\n",
    "    with open(os.path.join(folder, movie_html)) as file:\n",
    "        soup = BeautifulSoup(file)\n",
    "        title = soup.find('title').contents[0][:-len(' - Rotten Tomatoes')].replace(u'\\xa0', u' ')\n",
    "        audience_score = soup.find('div',class_='audience-score meter').find('span').contents[0][:-1]\n",
    "        number_of_audience_ratings=soup.find('div', class_='audience-info hidden-xs superPageFontColor').find_all('div')[1].contents[2].strip().replace(\",\",\"\")\n",
    "        \n",
    "    # Append to list of dictionaries\n",
    "    df_list.append({'title' : title,\n",
    "                    'audience_score': int(audience_score),\n",
    "                    'number_of_audience_ratings': int(number_of_audience_ratings)})\n",
    "    \n",
    " "
   ]
  },
  {
   "cell_type": "code",
   "execution_count": 17,
   "id": "e405879f",
   "metadata": {},
   "outputs": [],
   "source": [
    "df = pd.DataFrame(df_list, columns = ['title', 'audience_score', 'number_of_audience_ratings'])"
   ]
  },
  {
   "cell_type": "code",
   "execution_count": 18,
   "id": "1bb6fe4a",
   "metadata": {},
   "outputs": [
    {
     "data": {
      "text/html": [
       "<div>\n",
       "<style scoped>\n",
       "    .dataframe tbody tr th:only-of-type {\n",
       "        vertical-align: middle;\n",
       "    }\n",
       "\n",
       "    .dataframe tbody tr th {\n",
       "        vertical-align: top;\n",
       "    }\n",
       "\n",
       "    .dataframe thead th {\n",
       "        text-align: right;\n",
       "    }\n",
       "</style>\n",
       "<table border=\"1\" class=\"dataframe\">\n",
       "  <thead>\n",
       "    <tr style=\"text-align: right;\">\n",
       "      <th></th>\n",
       "      <th>title</th>\n",
       "      <th>audience_score</th>\n",
       "      <th>number_of_audience_ratings</th>\n",
       "    </tr>\n",
       "  </thead>\n",
       "  <tbody>\n",
       "    <tr>\n",
       "      <th>0</th>\n",
       "      <td>The Night of the Hunter (1955)</td>\n",
       "      <td>90</td>\n",
       "      <td>24322</td>\n",
       "    </tr>\n",
       "    <tr>\n",
       "      <th>1</th>\n",
       "      <td>The Cabinet of Dr. Caligari (Das Cabinet des D...</td>\n",
       "      <td>89</td>\n",
       "      <td>27163</td>\n",
       "    </tr>\n",
       "    <tr>\n",
       "      <th>2</th>\n",
       "      <td>The Big Sick (2017)</td>\n",
       "      <td>90</td>\n",
       "      <td>23391</td>\n",
       "    </tr>\n",
       "    <tr>\n",
       "      <th>3</th>\n",
       "      <td>Metropolis (1927)</td>\n",
       "      <td>92</td>\n",
       "      <td>62018</td>\n",
       "    </tr>\n",
       "    <tr>\n",
       "      <th>4</th>\n",
       "      <td>The 39 Steps (1935)</td>\n",
       "      <td>86</td>\n",
       "      <td>23647</td>\n",
       "    </tr>\n",
       "    <tr>\n",
       "      <th>...</th>\n",
       "      <td>...</td>\n",
       "      <td>...</td>\n",
       "      <td>...</td>\n",
       "    </tr>\n",
       "    <tr>\n",
       "      <th>95</th>\n",
       "      <td>All About Eve (1950)</td>\n",
       "      <td>94</td>\n",
       "      <td>44564</td>\n",
       "    </tr>\n",
       "    <tr>\n",
       "      <th>96</th>\n",
       "      <td>The Bride of Frankenstein (1935)</td>\n",
       "      <td>87</td>\n",
       "      <td>24471</td>\n",
       "    </tr>\n",
       "    <tr>\n",
       "      <th>97</th>\n",
       "      <td>Sunset Boulevard (1950)</td>\n",
       "      <td>95</td>\n",
       "      <td>52783</td>\n",
       "    </tr>\n",
       "    <tr>\n",
       "      <th>98</th>\n",
       "      <td>Rebecca (1940)</td>\n",
       "      <td>92</td>\n",
       "      <td>39026</td>\n",
       "    </tr>\n",
       "    <tr>\n",
       "      <th>99</th>\n",
       "      <td>King Kong (1933)</td>\n",
       "      <td>86</td>\n",
       "      <td>89669</td>\n",
       "    </tr>\n",
       "  </tbody>\n",
       "</table>\n",
       "<p>100 rows × 3 columns</p>\n",
       "</div>"
      ],
      "text/plain": [
       "                                                title  audience_score  \\\n",
       "0                      The Night of the Hunter (1955)              90   \n",
       "1   The Cabinet of Dr. Caligari (Das Cabinet des D...              89   \n",
       "2                                 The Big Sick (2017)              90   \n",
       "3                                   Metropolis (1927)              92   \n",
       "4                                 The 39 Steps (1935)              86   \n",
       "..                                                ...             ...   \n",
       "95                               All About Eve (1950)              94   \n",
       "96                   The Bride of Frankenstein (1935)              87   \n",
       "97                            Sunset Boulevard (1950)              95   \n",
       "98                                     Rebecca (1940)              92   \n",
       "99                                   King Kong (1933)              86   \n",
       "\n",
       "    number_of_audience_ratings  \n",
       "0                        24322  \n",
       "1                        27163  \n",
       "2                        23391  \n",
       "3                        62018  \n",
       "4                        23647  \n",
       "..                         ...  \n",
       "95                       44564  \n",
       "96                       24471  \n",
       "97                       52783  \n",
       "98                       39026  \n",
       "99                       89669  \n",
       "\n",
       "[100 rows x 3 columns]"
      ]
     },
     "execution_count": 18,
     "metadata": {},
     "output_type": "execute_result"
    }
   ],
   "source": [
    "df"
   ]
  },
  {
   "cell_type": "markdown",
   "id": "bb3fb81a",
   "metadata": {},
   "source": [
    "## Summary\n",
    "We extracted title', 'audience_score', 'number_of_audience_ratings from all downloaded html files from 'rt-html/rt_html' folder and appended them to a list(df_list). A dataFrame was created using  ['title', 'audience_score', 'number_of_audience_ratings']) as columns form our df_list"
   ]
  },
  {
   "cell_type": "code",
   "execution_count": null,
   "id": "dd0e76fd",
   "metadata": {},
   "outputs": [],
   "source": []
  }
 ],
 "metadata": {
  "kernelspec": {
   "display_name": "Python [conda env:root]",
   "language": "python",
   "name": "conda-root-py"
  },
  "language_info": {
   "codemirror_mode": {
    "name": "ipython",
    "version": 3
   },
   "file_extension": ".py",
   "mimetype": "text/x-python",
   "name": "python",
   "nbconvert_exporter": "python",
   "pygments_lexer": "ipython3",
   "version": "3.9.12"
  }
 },
 "nbformat": 4,
 "nbformat_minor": 5
}
