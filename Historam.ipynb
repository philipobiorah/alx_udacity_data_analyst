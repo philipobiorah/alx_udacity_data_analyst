{
  "nbformat": 4,
  "nbformat_minor": 0,
  "metadata": {
    "colab": {
      "name": "Historam.ipynb",
      "private_outputs": true,
      "provenance": [],
      "mount_file_id": "1WGp2PyDUR64IbEQojHVRSKe-PuctQoDo",
      "authorship_tag": "ABX9TyO1xSMNK3rrZWu26W9X5g2o",
      "include_colab_link": true
    },
    "kernelspec": {
      "name": "python3",
      "display_name": "Python 3"
    },
    "language_info": {
      "name": "python"
    }
  },
  "cells": [
    {
      "cell_type": "markdown",
      "metadata": {
        "id": "view-in-github",
        "colab_type": "text"
      },
      "source": [
        "<a href=\"https://colab.research.google.com/github/philipobiorah/alx_udacity_data_analyst/blob/main/Historam.ipynb\" target=\"_parent\"><img src=\"https://colab.research.google.com/assets/colab-badge.svg\" alt=\"Open In Colab\"/></a>"
      ]
    },
    {
      "cell_type": "code",
      "execution_count": null,
      "metadata": {
        "id": "04kJbBKPGL1d"
      },
      "outputs": [],
      "source": [
        "import numpy as np\n",
        "import pandas as pd\n",
        "import matplotlib.pyplot as plt\n",
        "import seaborn as sb\n",
        "%matplotlib inline"
      ]
    },
    {
      "cell_type": "code",
      "source": [
        "#Load the dataset\n",
        "pokemon = pd.read_csv('/content/drive/MyDrive/mount_d/pokemon.csv')\n",
        "print(pokemon.shape)\n",
        "pokemon.head(10)"
      ],
      "metadata": {
        "id": "Em9MJr46twy2"
      },
      "execution_count": null,
      "outputs": []
    },
    {
      "cell_type": "markdown",
      "source": [
        "We shall plot the quantitative variable 'speed"
      ],
      "metadata": {
        "id": "4SnwVgsPuMFW"
      }
    },
    {
      "cell_type": "code",
      "source": [
        "plt.hist(data = pokemon, x='speed')"
      ],
      "metadata": {
        "id": "uzzycRZHuWO9"
      },
      "execution_count": null,
      "outputs": []
    },
    {
      "cell_type": "markdown",
      "source": [
        "You can see a non-uniform distribution of data points in different bins.\n",
        "\n",
        "You can use descriptive statistics (e.g. via dataframe['column'].describe()) to gauge what minimum and maximum bin limits might be appropriate for the plot. These bin edges can be set using numpy's arange function:\n",
        "\n"
      ],
      "metadata": {
        "id": "G_VO89xawCBj"
      }
    },
    {
      "cell_type": "markdown",
      "source": [
        "##  Histogram with fixed number of bins"
      ],
      "metadata": {
        "id": "djf7dUZ2wmww"
      }
    },
    {
      "cell_type": "code",
      "source": [
        "plt.hist(data = pokemon, x = 'speed', bins= 20);"
      ],
      "metadata": {
        "id": "z-odp4CkwG3m"
      },
      "execution_count": null,
      "outputs": []
    },
    {
      "cell_type": "markdown",
      "source": [
        "## Histogram with dynamic number of bins"
      ],
      "metadata": {
        "id": "4pg2VbNZxH9T"
      }
    },
    {
      "cell_type": "code",
      "source": [
        "# Create bins with step-size 5\n",
        "bins = np.arange(0, pokemon['speed'].max()+5, 5)\n",
        "plt.hist(data = pokemon, x = 'speed', bins = bins);"
      ],
      "metadata": {
        "id": "7US2_cgYxJrV"
      },
      "execution_count": null,
      "outputs": []
    },
    {
      "cell_type": "markdown",
      "source": [
        "### Alternative Approach - Seaborn's distplot()"
      ],
      "metadata": {
        "id": "KTayuns-0BXe"
      }
    },
    {
      "cell_type": "code",
      "source": [
        "sb.distplot(pokemon['speed']);"
      ],
      "metadata": {
        "id": "_bIZ3wGE0KTO"
      },
      "execution_count": null,
      "outputs": []
    },
    {
      "cell_type": "code",
      "source": [
        "\n",
        "# Set the argument `kde=False` to remove the estimate-line representing the Gaussian kernel density estimate.\n",
        "sb.distplot(pokemon['speed'], kde=False)"
      ],
      "metadata": {
        "id": "q8vbE8GH0h8Q"
      },
      "execution_count": null,
      "outputs": []
    },
    {
      "cell_type": "markdown",
      "source": [
        "Even if the default bin-selection formula used by distplot is better than the choice of ten bins used by.hist, you'll still need to do some tweaking to align the bins to 'round' values. Other parameter settings can be used to plot just the histogram and specify the bins as before:"
      ],
      "metadata": {
        "id": "K60U6T901k61"
      }
    },
    {
      "cell_type": "code",
      "source": [
        "bin_edges = np.arange(0, pokemon['speed'].max()+5, 5)\n",
        "sb.distplot(pokemon['speed'], bins = bin_edges, kde = False,\n",
        "            hist_kws = {'alpha' : 0.5})"
      ],
      "metadata": {
        "id": "bjRuTePW1q4h"
      },
      "execution_count": null,
      "outputs": []
    },
    {
      "cell_type": "markdown",
      "source": [
        "## Plot two histograms side-by-side\n"
      ],
      "metadata": {
        "id": "UemtswLl3Tlb"
      }
    },
    {
      "cell_type": "code",
      "source": [
        "# Resize the chart, and have two plots side-by-side\n",
        "# Set a larger figure size for subplots\n",
        "plt.figure(figsize = [20, 5]) \n",
        "\n",
        "# histogram on left, example of too-large bin size\n",
        "# 1 row, 2 cols, subplot 1\n",
        "plt.subplot(1, 2, 1) \n",
        "bins = np.arange(0, pokemon['speed'].max()+4, 4)\n",
        "plt.hist(data = pokemon, x = 'speed', bins = bins);\n",
        "\n",
        "# histogram on right, example of too-small bin size\n",
        "plt.subplot(1, 2, 2) # 1 row, 2 cols, subplot 2\n",
        "bins = np.arange(0, pokemon['speed'].max()+1/4, 1/4)\n",
        "plt.hist(data = pokemon, x = 'speed', bins = bins);"
      ],
      "metadata": {
        "id": "tWjSIi013W7q"
      },
      "execution_count": null,
      "outputs": []
    },
    {
      "cell_type": "code",
      "source": [
        ""
      ],
      "metadata": {
        "id": "M0WhenKnuKbK"
      },
      "execution_count": null,
      "outputs": []
    }
  ]
}